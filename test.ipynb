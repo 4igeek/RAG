{
 "cells": [
  {
   "cell_type": "code",
   "execution_count": 20,
   "metadata": {},
   "outputs": [
    {
     "data": {
      "text/plain": [
       "True"
      ]
     },
     "execution_count": 20,
     "metadata": {},
     "output_type": "execute_result"
    }
   ],
   "source": [
    "import os # Used to setup environment variable.\n",
    "from dotenv import load_dotenv\n",
    "load_dotenv()"
   ]
  },
  {
   "cell_type": "code",
   "execution_count": 21,
   "metadata": {},
   "outputs": [],
   "source": [
    "os.environ['OPENAI_API_KEY'] = os.getenv('OPENAI_API_KEY')"
   ]
  },
  {
   "cell_type": "code",
   "execution_count": 22,
   "metadata": {},
   "outputs": [],
   "source": [
    "from llama_index.core import VectorStoreIndex,SimpleDirectoryReader\n",
    "documents=SimpleDirectoryReader(\"data\").load_data()"
   ]
  },
  {
   "cell_type": "code",
   "execution_count": 23,
   "metadata": {},
   "outputs": [],
   "source": [
    "index = VectorStoreIndex.from_documents(documents) # Converts the documents into index"
   ]
  },
  {
   "cell_type": "code",
   "execution_count": 24,
   "metadata": {},
   "outputs": [],
   "source": [
    "query_engine = index.as_query_engine() # Responsible for retrieving the information from the indices"
   ]
  },
  {
   "cell_type": "code",
   "execution_count": 25,
   "metadata": {},
   "outputs": [],
   "source": [
    "response = query_engine.query(\"What did the artist sketch in their scene?\")"
   ]
  },
  {
   "cell_type": "code",
   "execution_count": 26,
   "metadata": {},
   "outputs": [
    {
     "name": "stdout",
     "output_type": "stream",
     "text": [
      "Final Response: The artist sketched a bleak, silent room full of chaos\n",
      "and despair, with a rosy-cheeked baby who was gurgling and making\n",
      "content little noises, seemingly having forgotten the moment of hurt.\n",
      "______________________________________________________________________\n",
      "Source Node 1/2\n",
      "Node ID: 20e5b048-cda3-4f15-96be-7593b7103a7e\n",
      "Similarity: 0.7865675474668832\n",
      "Text: LIZ BRASWELL17daughter’s will bubbling up through her otherwise\n",
      "terrified  black eyes. “No, my queen,” Bess said firmly. “There’s\n",
      "something  strange afoot here—you saw it. Lettie tugged Rapunzel’s\n",
      "hair and now she is dead. In truth the babe seems to   be calming now,\n",
      "but let me hold her until we know that  it’s safe.” Arianna started to\n",
      "move fo...\n",
      "______________________________________________________________________\n",
      "Source Node 2/2\n",
      "Node ID: 800cc059-7fe3-42a6-b619-6cb48c37d635\n",
      "Similarity: 0.7785066685393865\n",
      "Text: LIZ BRASWELL37bowl. “ Nice  workmanship. Solid. All right then,\n",
      "young man,  just see me to the door and I’ll be on my way.” “At once,\n",
      "Mother,” he said with a bow. The old woman rose carefully, holding her\n",
      "new prize,  and waddled off toward the exit. “Oh, you might want to\n",
      "tell whoever is taking such  lovely care of those bellflowers on the\n",
      "ledge...\n",
      "The artist sketched a bleak, silent room full of chaos and despair, with a rosy-cheeked baby who was gurgling and making content little noises, seemingly having forgotten the moment of hurt.\n"
     ]
    }
   ],
   "source": [
    "from llama_index.core.response.pprint_utils import pprint_response\n",
    "pprint_response(response,show_source=True)\n",
    "print(response)"
   ]
  },
  {
   "cell_type": "code",
   "execution_count": null,
   "metadata": {},
   "outputs": [],
   "source": []
  }
 ],
 "metadata": {
  "kernelspec": {
   "display_name": "venv",
   "language": "python",
   "name": "python3"
  },
  "language_info": {
   "codemirror_mode": {
    "name": "ipython",
    "version": 3
   },
   "file_extension": ".py",
   "mimetype": "text/x-python",
   "name": "python",
   "nbconvert_exporter": "python",
   "pygments_lexer": "ipython3",
   "version": "3.10.14"
  }
 },
 "nbformat": 4,
 "nbformat_minor": 2
}
